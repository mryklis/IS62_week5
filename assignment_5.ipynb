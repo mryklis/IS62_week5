{
 "cells": [
  {
   "cell_type": "markdown",
   "metadata": {},
   "source": [
    "# Week 5 Assignment"
   ]
  },
  {
   "cell_type": "markdown",
   "metadata": {},
   "source": [
    "First I import the pandas module as pd"
   ]
  },
  {
   "cell_type": "code",
   "execution_count": 12,
   "metadata": {
    "collapsed": true
   },
   "outputs": [],
   "source": [
    "import pandas as pd"
   ]
  },
  {
   "cell_type": "markdown",
   "metadata": {},
   "source": [
    "Then I import the airports csv into a dataframe"
   ]
  },
  {
   "cell_type": "code",
   "execution_count": 2,
   "metadata": {
    "collapsed": true
   },
   "outputs": [],
   "source": [
    "df = pd.read_csv('C:/Users/maxim/Documents/GitHub/IS62_week5/airports.csv')"
   ]
  },
  {
   "cell_type": "markdown",
   "metadata": {},
   "source": [
    "The trick to finding the northernmost airport is to find the max latitude above the equator."
   ]
  },
  {
   "cell_type": "code",
   "execution_count": 3,
   "metadata": {
    "collapsed": false
   },
   "outputs": [
    {
     "name": "stdout",
     "output_type": "stream",
     "text": [
      "The northernmost airport is: Dillant Hopkins Airport\n"
     ]
    }
   ],
   "source": [
    "max_lat = df.loc[df['lat'].idxmax()]\n",
    "print ('The northernmost airport is: {}'.format(max_lat['name']))"
   ]
  },
  {
   "cell_type": "markdown",
   "metadata": {},
   "source": [
    "### Finding the easternmost is a little trickier. there are two options. the max longitude east from the meridian line or min west of the meridian. "
   ]
  },
  {
   "cell_type": "markdown",
   "metadata": {},
   "source": [
    "in the first example I find that the eastern most part, from the meridian is Eareckson, Alaska"
   ]
  },
  {
   "cell_type": "code",
   "execution_count": 4,
   "metadata": {
    "collapsed": false
   },
   "outputs": [
    {
     "name": "stdout",
     "output_type": "stream",
     "text": [
      "The easternmost airport, east of the meridian is: Eareckson As\n"
     ]
    }
   ],
   "source": [
    "max_lon_east = df.loc[df['lon'].idxmax()]\n",
    "print ('The easternmost airport, east of the meridian is: {}'.format(max_lon_east['name']))"
   ]
  },
  {
   "cell_type": "markdown",
   "metadata": {},
   "source": [
    "in the second example I look for the largest negative number. or the longitude closes to the meridian from the west."
   ]
  },
  {
   "cell_type": "markdown",
   "metadata": {},
   "source": [
    "first I find the values that are negative, or west of the meridian"
   ]
  },
  {
   "cell_type": "code",
   "execution_count": 6,
   "metadata": {
    "collapsed": true
   },
   "outputs": [],
   "source": [
    "df2 = df.lon[df.lon < 0]"
   ]
  },
  {
   "cell_type": "markdown",
   "metadata": {},
   "source": [
    "using max from series returns the line closest to the meridian"
   ]
  },
  {
   "cell_type": "code",
   "execution_count": 7,
   "metadata": {
    "collapsed": false
   },
   "outputs": [],
   "source": [
    "min_lon_west = df2.max()"
   ]
  },
  {
   "cell_type": "markdown",
   "metadata": {},
   "source": [
    "since I need the airport name, I find the record corresponding to the min_lon_west value, and return the name item"
   ]
  },
  {
   "cell_type": "code",
   "execution_count": 13,
   "metadata": {
    "collapsed": false
   },
   "outputs": [
    {
     "name": "stdout",
     "output_type": "stream",
     "text": [
      "The easternmost airport, west of the meridian is: Eastport Municipal Airport\n"
     ]
    }
   ],
   "source": [
    "find2 = df.loc[df['lon'] == min_lon_west].name.item()\n",
    "print ('The easternmost airport, west of the meridian is: {}'.format(find2))"
   ]
  },
  {
   "cell_type": "markdown",
   "metadata": {},
   "source": [
    "For the 3rd question I import the weather csv into a dataframe."
   ]
  },
  {
   "cell_type": "code",
   "execution_count": 9,
   "metadata": {
    "collapsed": true
   },
   "outputs": [],
   "source": [
    "df2 = pd.read_csv('C:/Users/maxim/Documents/GitHub/IS62_week5/weather.csv')"
   ]
  },
  {
   "cell_type": "markdown",
   "metadata": {},
   "source": [
    "I start off by filtering for records from 2013-02-13, as specified."
   ]
  },
  {
   "cell_type": "code",
   "execution_count": 10,
   "metadata": {
    "collapsed": true
   },
   "outputs": [],
   "source": [
    "find = df2.loc[df2['time_hour'].str.contains('2013-02-13')]"
   ]
  },
  {
   "cell_type": "markdown",
   "metadata": {},
   "source": [
    "and pin down the largest wind gust value in the dataframe"
   ]
  },
  {
   "cell_type": "code",
   "execution_count": 11,
   "metadata": {
    "collapsed": false
   },
   "outputs": [
    {
     "name": "stdout",
     "output_type": "stream",
     "text": [
      "The windiest airport on given date 2013-02-13, based on wind gust is: LGA\n"
     ]
    }
   ],
   "source": [
    "max_gust = find.loc[find['wind_gust'].idxmax()]\n",
    "print ('The windiest airport on given date 2013-02-13, based on wind gust is: {}'.format(max_gust['origin']))"
   ]
  }
 ],
 "metadata": {
  "anaconda-cloud": {},
  "kernelspec": {
   "display_name": "Python [default]",
   "language": "python",
   "name": "python3"
  },
  "language_info": {
   "codemirror_mode": {
    "name": "ipython",
    "version": 3
   },
   "file_extension": ".py",
   "mimetype": "text/x-python",
   "name": "python",
   "nbconvert_exporter": "python",
   "pygments_lexer": "ipython3",
   "version": "3.5.2"
  }
 },
 "nbformat": 4,
 "nbformat_minor": 1
}
